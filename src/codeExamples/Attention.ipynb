{
 "cells": [
  {
   "cell_type": "code",
   "execution_count": 4,
   "id": "61e8dd6b-7111-4beb-945d-96d9734a5f45",
   "metadata": {},
   "outputs": [
    {
     "name": "stdout",
     "output_type": "stream",
     "text": [
      "Requirement already satisfied: scipy in c:\\users\\caleb\\appdata\\local\\programs\\python\\python312\\lib\\site-packages (1.13.0)\n",
      "Requirement already satisfied: numpy<2.3,>=1.22.4 in c:\\users\\caleb\\appdata\\local\\programs\\python\\python312\\lib\\site-packages (from scipy) (1.26.2)\n",
      "Attention Weights:\n",
      " [[2.78946809e-10 6.91440010e-13 1.00000000e+00 1.87952882e-12]\n",
      " [1.02618796e-10 9.35762297e-14 1.00000000e+00 4.65888614e-15]\n",
      " [2.86251858e-20 6.47023493e-26 1.00000000e+00 8.75651076e-27]\n",
      " [1.12535159e-07 1.52299776e-08 9.99999857e-01 1.52299776e-08]]\n",
      "Attention Output:\n",
      " [[4.         6.         1.        ]\n",
      " [4.         6.         1.        ]\n",
      " [4.         6.         1.        ]\n",
      " [3.99999949 5.99999956 1.        ]]\n"
     ]
    },
    {
     "name": "stderr",
     "output_type": "stream",
     "text": [
      "\n",
      "[notice] A new release of pip is available: 23.3.1 -> 24.0\n",
      "[notice] To update, run: python.exe -m pip install --upgrade pip\n"
     ]
    }
   ],
   "source": [
    "import sys\n",
    "!{sys.executable} -m pip install numpy\n",
    "import numpy as np\n",
    "!{sys.executable} -m pip install scipy\n",
    "from scipy.special import softmax\n",
    "\n",
    "# Define word embeddings (simulated for simplicity)\n",
    "word_embeddings = np.array([\n",
    "    [1, 0, 0],  # Word 1\n",
    "    [0, 1, 0],  # Word 2\n",
    "    [1, 1, 0],  # Word 3\n",
    "    [0, 0, 1]   # Word 4\n",
    "])\n",
    "\n",
    "# Randomly generate weights for Query (Q), Key (K), and Value (V) matrices\n",
    "np.random.seed(42)\n",
    "W_Q = np.random.randint(5, size=(3, 3))\n",
    "W_K = np.random.randint(5, size=(3, 3))\n",
    "W_V = np.random.randint(5, size=(3, 3))\n",
    "\n",
    "# Compute queries, keys, values\n",
    "Q = np.dot(word_embeddings, W_Q)\n",
    "K = np.dot(word_embeddings, W_K)\n",
    "V = np.dot(word_embeddings, W_V)\n",
    "\n",
    "# Calculate attention scores\n",
    "attention_scores = np.dot(Q, K.T)\n",
    "attention_weights = softmax(attention_scores, axis=1)\n",
    "\n",
    "# Compute the attention output\n",
    "attention_output = np.dot(attention_weights, V)\n",
    "\n",
    "print(\"Attention Weights:\\n\", attention_weights)\n",
    "print(\"Attention Output:\\n\", attention_output)\n"
   ]
  },
  {
   "cell_type": "code",
   "execution_count": null,
   "id": "106895e6-7a32-4fa2-8990-7921e4b848e6",
   "metadata": {},
   "outputs": [],
   "source": []
  },
  {
   "cell_type": "code",
   "execution_count": null,
   "id": "fb848240-3ab5-49bb-b5d4-48afeb07b332",
   "metadata": {},
   "outputs": [],
   "source": []
  },
  {
   "cell_type": "code",
   "execution_count": null,
   "id": "0cf2a617-e26b-4231-a69d-7719e4553e55",
   "metadata": {},
   "outputs": [],
   "source": []
  },
  {
   "cell_type": "code",
   "execution_count": null,
   "id": "d2f62ebb-0ba0-4ef5-b824-a88f81fe100c",
   "metadata": {},
   "outputs": [],
   "source": []
  },
  {
   "cell_type": "code",
   "execution_count": null,
   "id": "a6cb4e22-d733-4fa5-85ee-0addfba18ceb",
   "metadata": {},
   "outputs": [],
   "source": []
  }
 ],
 "metadata": {
  "kernelspec": {
   "display_name": "Python 3 (ipykernel)",
   "language": "python",
   "name": "python3"
  },
  "language_info": {
   "codemirror_mode": {
    "name": "ipython",
    "version": 3
   },
   "file_extension": ".py",
   "mimetype": "text/x-python",
   "name": "python",
   "nbconvert_exporter": "python",
   "pygments_lexer": "ipython3",
   "version": "3.12.0"
  }
 },
 "nbformat": 4,
 "nbformat_minor": 5
}
