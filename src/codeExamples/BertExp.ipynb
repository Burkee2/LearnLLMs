{
 "cells": [
  {
   "cell_type": "code",
   "execution_count": 1,
   "id": "24b450eb-aec4-4d3e-b289-e2056c115b7a",
   "metadata": {
    "scrolled": true
   },
   "outputs": [
    {
     "name": "stderr",
     "output_type": "stream",
     "text": [
      "C:\\Users\\caleb\\AppData\\Local\\Programs\\Python\\Python312\\Lib\\site-packages\\tqdm\\auto.py:21: TqdmWarning: IProgress not found. Please update jupyter and ipywidgets. See https://ipywidgets.readthedocs.io/en/stable/user_install.html\n",
      "  from .autonotebook import tqdm as notebook_tqdm\n",
      "Some weights of BertForSequenceClassification were not initialized from the model checkpoint at bert-base-uncased and are newly initialized: ['classifier.bias', 'classifier.weight']\n",
      "You should probably TRAIN this model on a down-stream task to be able to use it for predictions and inference.\n"
     ]
    },
    {
     "name": "stdout",
     "output_type": "stream",
     "text": [
      "Text 1: I absolutely love this movie! The acting was brilliant and the plot kept me engaged throughout.\n",
      "Sentiment: Positive\n",
      "\n",
      "Text 2: The service at this restaurant was terrible. The food was cold and the staff was rude.\n",
      "Sentiment: Positive\n"
     ]
    }
   ],
   "source": [
    "import os\n",
    "os.environ[\"HF_HUB_DISABLE_SYMLINKS_WARNING\"] = \"1\"\n",
    "\n",
    "# Import the necessary libraries\n",
    "from transformers import BertTokenizer, BertForSequenceClassification\n",
    "import torch\n",
    "\n",
    "# Load the pre-trained BERT model and tokenizer\n",
    "model_name = 'bert-base-uncased'\n",
    "tokenizer = BertTokenizer.from_pretrained(model_name)\n",
    "model = BertForSequenceClassification.from_pretrained(model_name)\n",
    "\n",
    "# Define a function for sentiment analysis\n",
    "def analyze_sentiment(text):\n",
    "    # Tokenize the input text\n",
    "    inputs = tokenizer(text, return_tensors='pt', padding=True, truncation=True)\n",
    "    \n",
    "    # Pass the input through the model\n",
    "    outputs = model(**inputs)\n",
    "    \n",
    "    # Get the predicted sentiment label\n",
    "    predicted_label = torch.argmax(outputs.logits).item()\n",
    "    \n",
    "    # Map the predicted label to sentiment\n",
    "    sentiment = 'Positive' if predicted_label == 1 else 'Negative'\n",
    "    \n",
    "    return sentiment\n",
    "\n",
    "# Example usage\n",
    "text1 = \"I absolutely love this movie! The acting was brilliant and the plot kept me engaged throughout.\"\n",
    "text2 = \"The service at this restaurant was terrible. The food was cold and the staff was rude.\"\n",
    "\n",
    "# Analyze the sentiment of the example texts\n",
    "sentiment1 = analyze_sentiment(text1)\n",
    "sentiment2 = analyze_sentiment(text2)\n",
    "\n",
    "# Print the results\n",
    "print(f\"Text 1: {text1}\")\n",
    "print(f\"Sentiment: {sentiment1}\")\n",
    "print()\n",
    "print(f\"Text 2: {text2}\")\n",
    "print(f\"Sentiment: {sentiment2}\")\n"
   ]
  },
  {
   "cell_type": "code",
   "execution_count": null,
   "id": "b18bca0a-bd57-4cdc-a6ea-53afa6aaead4",
   "metadata": {},
   "outputs": [],
   "source": []
  },
  {
   "cell_type": "code",
   "execution_count": null,
   "id": "f71318f8-dad1-4997-9b48-26a71add8ccb",
   "metadata": {},
   "outputs": [],
   "source": []
  }
 ],
 "metadata": {
  "kernelspec": {
   "display_name": "Python 3 (ipykernel)",
   "language": "python",
   "name": "python3"
  },
  "language_info": {
   "codemirror_mode": {
    "name": "ipython",
    "version": 3
   },
   "file_extension": ".py",
   "mimetype": "text/x-python",
   "name": "python",
   "nbconvert_exporter": "python",
   "pygments_lexer": "ipython3",
   "version": "3.12.0"
  }
 },
 "nbformat": 4,
 "nbformat_minor": 5
}
